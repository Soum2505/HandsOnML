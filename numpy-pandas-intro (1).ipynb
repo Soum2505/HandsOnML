{
 "cells": [
  {
   "cell_type": "code",
   "execution_count": null,
   "metadata": {},
   "outputs": [],
   "source": [
    "import numpy as np\n",
    "x = np.array([2, 4, 6, 8, 10])\n",
    "print(x)\n",
    "print(x[3])"
   ]
  },
  {
   "cell_type": "code",
   "execution_count": null,
   "metadata": {},
   "outputs": [],
   "source": [
    "#see what happens when you try to \"add\" lists\n",
    "#try to divide as well and see what you get\n",
    "x1 = [1,2,3,4,5]\n",
    "print(type(x1))\n",
    "x2 = [1,2,3,4,5]\n",
    "print(x1 + x2)"
   ]
  },
  {
   "cell_type": "code",
   "execution_count": null,
   "metadata": {},
   "outputs": [],
   "source": [
    "# now define two numpy arrays - arange will automativally create \n",
    "# values from 0 to 19 for each array\n",
    "# voila, all math operations in arrays work great! try division as well\n",
    "y1 = np.arange(20)\n",
    "y2 = np.arange(20)\n",
    "print(y1)\n",
    "print(y1+y2)\n",
    "print(y1*y2)"
   ]
  },
  {
   "cell_type": "code",
   "execution_count": null,
   "metadata": {},
   "outputs": [],
   "source": [
    "# if you have a numpy array you can even derive conditional arrays \n",
    "\n",
    "print(y1 > 15)\n",
    "print( y1[y1 > 15] )"
   ]
  },
  {
   "cell_type": "code",
   "execution_count": null,
   "metadata": {},
   "outputs": [],
   "source": [
    "# you can examine the number of dimensions and data types of numpy arrays\n",
    "\n",
    "print(y1.ndim) # one dimension\n",
    "print(y1.dtype) # integer array 64 bits\n"
   ]
  },
  {
   "cell_type": "code",
   "execution_count": null,
   "metadata": {},
   "outputs": [],
   "source": [
    "# two-dimensional arrays\n",
    "y3 = np.array([[1,2],[4,5]])\n",
    "print(y3)\n",
    "# query size, shape of arrays and quick operations\n",
    "print(y1.size, y1.shape, y1.sum(), y3.size, y3.shape, y3.sum())"
   ]
  },
  {
   "cell_type": "code",
   "execution_count": null,
   "metadata": {},
   "outputs": [],
   "source": [
    "#pandas uses numpy to represent enter data frames, like a spreadsheet, or a dataset\n",
    "# example below from Google Cloud Platform's \"Wrangling Data with Pandas\"\n",
    "\n",
    "#download iris.csv file with the row headers from the Web\n",
    "import pandas as pd\n",
    "iris_csv = pd.read_csv(\"iris.csv\")\n",
    "print(type(iris_csv))"
   ]
  },
  {
   "cell_type": "code",
   "execution_count": null,
   "metadata": {},
   "outputs": [],
   "source": [
    "# head and describe return top few rows and summary stats\n",
    "print(iris_csv.head())\n",
    "print(iris_csv.describe())"
   ]
  },
  {
   "cell_type": "code",
   "execution_count": null,
   "metadata": {},
   "outputs": [],
   "source": [
    "#use dot columns method on the data frame to get the column names\n",
    "#use brackets notation to pull out a column\n",
    "print(iris_csv.columns)\n",
    "print(iris_csv['sepal_length'])"
   ]
  },
  {
   "cell_type": "code",
   "execution_count": null,
   "metadata": {},
   "outputs": [],
   "source": [
    "# to retrive a row of data use index location (iloc) function with row number\n",
    "print(iris_csv.iloc[0])\n",
    "#accessing a row and column\n",
    "print(iris_csv['sepal_length'].iloc[0])"
   ]
  },
  {
   "cell_type": "code",
   "execution_count": null,
   "metadata": {},
   "outputs": [],
   "source": [
    "#to access a subset of rows and columns, first create names of colums\n",
    "cols = iris_csv[['sepal_length', 'sepal_width']]\n",
    "print(cols.iloc[5:20])\n",
    "\n",
    "#also go through basic pandas data frame tutorial below\n",
    "#https://github.com/adeshpande3/Pandas-Tutorial/blob/master/Pandas%20Tutorial.ipynb"
   ]
  },
  {
   "cell_type": "code",
   "execution_count": null,
   "metadata": {
    "collapsed": true
   },
   "outputs": [],
   "source": []
  }
 ],
 "metadata": {
  "kernelspec": {
   "display_name": "Python 3",
   "language": "python",
   "name": "python3"
  },
  "language_info": {
   "codemirror_mode": {
    "name": "ipython",
    "version": 3
   },
   "file_extension": ".py",
   "mimetype": "text/x-python",
   "name": "python",
   "nbconvert_exporter": "python",
   "pygments_lexer": "ipython3",
   "version": "3.6.1"
  }
 },
 "nbformat": 4,
 "nbformat_minor": 2
}
