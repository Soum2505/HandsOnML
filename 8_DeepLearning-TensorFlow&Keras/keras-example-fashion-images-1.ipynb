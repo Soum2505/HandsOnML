{
 "cells": [
  {
   "cell_type": "code",
   "execution_count": 1,
   "metadata": {
    "collapsed": true
   },
   "outputs": [],
   "source": [
    "import tensorflow as tf"
   ]
  },
  {
   "cell_type": "code",
   "execution_count": 2,
   "metadata": {
    "collapsed": true
   },
   "outputs": [],
   "source": [
    "from tensorflow import keras"
   ]
  },
  {
   "cell_type": "code",
   "execution_count": 21,
   "metadata": {
    "collapsed": true
   },
   "outputs": [],
   "source": [
    "import matplotlib\n",
    "import matplotlib.pyplot as plt"
   ]
  },
  {
   "cell_type": "code",
   "execution_count": 3,
   "metadata": {},
   "outputs": [
    {
     "data": {
      "text/plain": [
       "'1.13.1'"
      ]
     },
     "execution_count": 3,
     "metadata": {},
     "output_type": "execute_result"
    }
   ],
   "source": [
    "tf.__version__"
   ]
  },
  {
   "cell_type": "code",
   "execution_count": 4,
   "metadata": {},
   "outputs": [
    {
     "data": {
      "text/plain": [
       "'2.2.4-tf'"
      ]
     },
     "execution_count": 4,
     "metadata": {},
     "output_type": "execute_result"
    }
   ],
   "source": [
    "keras.__version__"
   ]
  },
  {
   "cell_type": "code",
   "execution_count": 5,
   "metadata": {},
   "outputs": [],
   "source": [
    "fashion_mnist = keras.datasets.fashion_mnist\n",
    "\n",
    "(X_train_full, y_train_full), (X_test, y_test) = fashion_mnist.load_data()"
   ]
  },
  {
   "cell_type": "code",
   "execution_count": 6,
   "metadata": {},
   "outputs": [
    {
     "data": {
      "text/plain": [
       "numpy.ndarray"
      ]
     },
     "execution_count": 6,
     "metadata": {},
     "output_type": "execute_result"
    }
   ],
   "source": [
    "type(X_train_full)"
   ]
  },
  {
   "cell_type": "code",
   "execution_count": 7,
   "metadata": {},
   "outputs": [
    {
     "data": {
      "text/plain": [
       "array([[[0, 0, 0, ..., 0, 0, 0],\n",
       "        [0, 0, 0, ..., 0, 0, 0],\n",
       "        [0, 0, 0, ..., 0, 0, 0],\n",
       "        ...,\n",
       "        [0, 0, 0, ..., 0, 0, 0],\n",
       "        [0, 0, 0, ..., 0, 0, 0],\n",
       "        [0, 0, 0, ..., 0, 0, 0]],\n",
       "\n",
       "       [[0, 0, 0, ..., 0, 0, 0],\n",
       "        [0, 0, 0, ..., 0, 0, 0],\n",
       "        [0, 0, 0, ..., 0, 0, 0],\n",
       "        ...,\n",
       "        [0, 0, 0, ..., 0, 0, 0],\n",
       "        [0, 0, 0, ..., 0, 0, 0],\n",
       "        [0, 0, 0, ..., 0, 0, 0]],\n",
       "\n",
       "       [[0, 0, 0, ..., 0, 0, 0],\n",
       "        [0, 0, 0, ..., 0, 0, 0],\n",
       "        [0, 0, 0, ..., 0, 0, 0],\n",
       "        ...,\n",
       "        [0, 0, 0, ..., 0, 0, 0],\n",
       "        [0, 0, 0, ..., 0, 0, 0],\n",
       "        [0, 0, 0, ..., 0, 0, 0]]], dtype=uint8)"
      ]
     },
     "execution_count": 7,
     "metadata": {},
     "output_type": "execute_result"
    }
   ],
   "source": [
    "X_train_full[:3]"
   ]
  },
  {
   "cell_type": "code",
   "execution_count": 8,
   "metadata": {},
   "outputs": [
    {
     "data": {
      "text/plain": [
       "array([9, 0, 0], dtype=uint8)"
      ]
     },
     "execution_count": 8,
     "metadata": {},
     "output_type": "execute_result"
    }
   ],
   "source": [
    "y_train_full[:3]"
   ]
  },
  {
   "cell_type": "code",
   "execution_count": 9,
   "metadata": {},
   "outputs": [
    {
     "data": {
      "text/plain": [
       "(60000, 28, 28)"
      ]
     },
     "execution_count": 9,
     "metadata": {},
     "output_type": "execute_result"
    }
   ],
   "source": [
    "X_train_full.shape"
   ]
  },
  {
   "cell_type": "code",
   "execution_count": 22,
   "metadata": {},
   "outputs": [
    {
     "data": {
      "image/png": "[encoded data removed]",
      "text/plain": [
       "<Figure size 432x288 with 1 Axes>"
      ]
     },
     "metadata": {},
     "output_type": "display_data"
    }
   ],
   "source": [
    "some_pic = X_train_full[0]\n",
    "some_pic_image = some_pic.reshape(28,28)\n",
    "plt.imshow(some_pic_image)\n",
    "plt.show()"
   ]
  },
  {
   "cell_type": "code",
   "execution_count": 10,
   "metadata": {
    "collapsed": true
   },
   "outputs": [],
   "source": [
    "#create validation data as well, plus scaling down x values from 1-255 to 0-1 scale\n",
    "X_valid, X_train = X_train_full[:5000] / 255.0, X_train_full[5000:] / 255.0\n",
    "y_valid, y_train = y_train_full[:5000], y_train_full[5000:]"
   ]
  },
  {
   "cell_type": "code",
   "execution_count": 24,
   "metadata": {},
   "outputs": [
    {
     "data": {
      "text/plain": [
       "'Coat'"
      ]
     },
     "execution_count": 24,
     "metadata": {},
     "output_type": "execute_result"
    }
   ],
   "source": [
    "class_names = [\"T-shirt/top\", \"Trouser\", \"Pullover\", \"Dress\", \"Coat\",\n",
    "               \"Sandal\", \"Shirt\", \"Sneaker\", \"Bag\", \"Ankle boot\"]\n",
    "class_names[y_train[0]]"
   ]
  },
  {
   "cell_type": "code",
   "execution_count": 12,
   "metadata": {},
   "outputs": [
    {
     "name": "stdout",
     "output_type": "stream",
     "text": [
      "WARNING:tensorflow:From /Users/bp/anaconda/lib/python3.6/site-packages/tensorflow/python/ops/resource_variable_ops.py:435: colocate_with (from tensorflow.python.framework.ops) is deprecated and will be removed in a future version.\n",
      "Instructions for updating:\n",
      "Colocations handled automatically by placer.\n"
     ]
    }
   ],
   "source": [
    "model = keras.models.Sequential()\n",
    "model.add(keras.layers.Flatten(input_shape=[28, 28]))\n",
    "model.add(keras.layers.Dense(300, activation=\"relu\"))\n",
    "model.add(keras.layers.Dense(100, activation=\"relu\"))\n",
    "model.add(keras.layers.Dense(10, activation=\"softmax\"))"
   ]
  },
  {
   "cell_type": "code",
   "execution_count": 13,
   "metadata": {},
   "outputs": [
    {
     "name": "stdout",
     "output_type": "stream",
     "text": [
      "_________________________________________________________________\n",
      "Layer (type)                 Output Shape              Param #   \n",
      "=================================================================\n",
      "flatten (Flatten)            (None, 784)               0         \n",
      "_________________________________________________________________\n",
      "dense (Dense)                (None, 300)               235500    \n",
      "_________________________________________________________________\n",
      "dense_1 (Dense)              (None, 100)               30100     \n",
      "_________________________________________________________________\n",
      "dense_2 (Dense)              (None, 10)                1010      \n",
      "=================================================================\n",
      "Total params: 266,610\n",
      "Trainable params: 266,610\n",
      "Non-trainable params: 0\n",
      "_________________________________________________________________\n"
     ]
    }
   ],
   "source": [
    "model.summary()"
   ]
  },
  {
   "cell_type": "code",
   "execution_count": 14,
   "metadata": {},
   "outputs": [
    {
     "data": {
      "text/plain": [
       "[<tensorflow.python.keras.layers.core.Flatten at 0xb301c7ef0>,\n",
       " <tensorflow.python.keras.layers.core.Dense at 0xb301ce240>,\n",
       " <tensorflow.python.keras.layers.core.Dense at 0xb301ce400>,\n",
       " <tensorflow.python.keras.layers.core.Dense at 0xb301ceeb8>]"
      ]
     },
     "execution_count": 14,
     "metadata": {},
     "output_type": "execute_result"
    }
   ],
   "source": [
    "model.layers"
   ]
  },
  {
   "cell_type": "code",
   "execution_count": 15,
   "metadata": {},
   "outputs": [
    {
     "data": {
      "text/plain": [
       "'dense'"
      ]
     },
     "execution_count": 15,
     "metadata": {},
     "output_type": "execute_result"
    }
   ],
   "source": [
    "model.layers[1].name\n"
   ]
  },
  {
   "cell_type": "code",
   "execution_count": 16,
   "metadata": {
    "collapsed": true
   },
   "outputs": [],
   "source": [
    "weights, biases = model.layers[1].get_weights()"
   ]
  },
  {
   "cell_type": "code",
   "execution_count": 17,
   "metadata": {},
   "outputs": [
    {
     "data": {
      "text/plain": [
       "array([[-0.06058352,  0.06547663, -0.01424598, ..., -0.06105146,\n",
       "         0.05962001,  0.01341774],\n",
       "       [ 0.05669612, -0.02746091, -0.00638696, ..., -0.04038906,\n",
       "        -0.02143535, -0.06804886],\n",
       "       [-0.03512383, -0.05151367, -0.01793936, ..., -0.02406134,\n",
       "        -0.00502093, -0.00164144],\n",
       "       ...,\n",
       "       [ 0.06651889,  0.06762986, -0.05919079, ..., -0.00168525,\n",
       "         0.05566885, -0.02591149],\n",
       "       [-0.06397845, -0.0576694 ,  0.07339618, ...,  0.07107514,\n",
       "        -0.06621335, -0.04038477],\n",
       "       [-0.01898543, -0.01914094, -0.03489045, ..., -0.0153207 ,\n",
       "        -0.04615833,  0.01411142]], dtype=float32)"
      ]
     },
     "execution_count": 17,
     "metadata": {},
     "output_type": "execute_result"
    }
   ],
   "source": [
    "weights"
   ]
  },
  {
   "cell_type": "code",
   "execution_count": 18,
   "metadata": {
    "collapsed": true
   },
   "outputs": [],
   "source": [
    "model.compile(loss=\"sparse_categorical_crossentropy\",\n",
    "              optimizer=\"sgd\",\n",
    "              metrics=[\"accuracy\"])"
   ]
  },
  {
   "cell_type": "code",
   "execution_count": 19,
   "metadata": {},
   "outputs": [
    {
     "name": "stdout",
     "output_type": "stream",
     "text": [
      "Train on 55000 samples, validate on 5000 samples\n",
      "Epoch 1/30\n",
      "55000/55000 [==============================] - 4s 70us/sample - loss: 0.7177 - acc: 0.7628 - val_loss: 0.5084 - val_acc: 0.8312\n",
      "Epoch 2/30\n",
      "55000/55000 [==============================] - 4s 67us/sample - loss: 0.4915 - acc: 0.8294 - val_loss: 0.4485 - val_acc: 0.8466\n",
      "Epoch 3/30\n",
      "55000/55000 [==============================] - 4s 68us/sample - loss: 0.4439 - acc: 0.8438 - val_loss: 0.5036 - val_acc: 0.8176\n",
      "Epoch 4/30\n",
      "55000/55000 [==============================] - 4s 67us/sample - loss: 0.4172 - acc: 0.8532 - val_loss: 0.4089 - val_acc: 0.8566\n",
      "Epoch 5/30\n",
      "55000/55000 [==============================] - 4s 67us/sample - loss: 0.3952 - acc: 0.8610 - val_loss: 0.3799 - val_acc: 0.8710\n",
      "Epoch 6/30\n",
      "55000/55000 [==============================] - 4s 68us/sample - loss: 0.3797 - acc: 0.8676 - val_loss: 0.3781 - val_acc: 0.8712\n",
      "Epoch 7/30\n",
      "55000/55000 [==============================] - 4s 67us/sample - loss: 0.3659 - acc: 0.8705 - val_loss: 0.3599 - val_acc: 0.8760\n",
      "Epoch 8/30\n",
      "55000/55000 [==============================] - 4s 68us/sample - loss: 0.3550 - acc: 0.8738 - val_loss: 0.3854 - val_acc: 0.8592\n",
      "Epoch 9/30\n",
      "55000/55000 [==============================] - 4s 69us/sample - loss: 0.3437 - acc: 0.8774 - val_loss: 0.3492 - val_acc: 0.8794\n",
      "Epoch 10/30\n",
      "55000/55000 [==============================] - 4s 68us/sample - loss: 0.3347 - acc: 0.8809 - val_loss: 0.3444 - val_acc: 0.8798\n",
      "Epoch 11/30\n",
      "55000/55000 [==============================] - 4s 67us/sample - loss: 0.3272 - acc: 0.8836 - val_loss: 0.3363 - val_acc: 0.8830\n",
      "Epoch 12/30\n",
      "55000/55000 [==============================] - 4s 67us/sample - loss: 0.3189 - acc: 0.8855 - val_loss: 0.3439 - val_acc: 0.8784\n",
      "Epoch 13/30\n",
      "55000/55000 [==============================] - 4s 67us/sample - loss: 0.3114 - acc: 0.8889 - val_loss: 0.3270 - val_acc: 0.8866\n",
      "Epoch 14/30\n",
      "55000/55000 [==============================] - 4s 69us/sample - loss: 0.3049 - acc: 0.8911 - val_loss: 0.3384 - val_acc: 0.8810\n",
      "Epoch 15/30\n",
      "55000/55000 [==============================] - 4s 73us/sample - loss: 0.2986 - acc: 0.8937 - val_loss: 0.3497 - val_acc: 0.8730\n",
      "Epoch 16/30\n",
      "55000/55000 [==============================] - 4s 70us/sample - loss: 0.2924 - acc: 0.8944 - val_loss: 0.3257 - val_acc: 0.8878\n",
      "Epoch 17/30\n",
      "55000/55000 [==============================] - 4s 72us/sample - loss: 0.2877 - acc: 0.8975 - val_loss: 0.3264 - val_acc: 0.8824\n",
      "Epoch 18/30\n",
      "55000/55000 [==============================] - 4s 71us/sample - loss: 0.2822 - acc: 0.8979 - val_loss: 0.3186 - val_acc: 0.8896\n",
      "Epoch 19/30\n",
      "55000/55000 [==============================] - 4s 69us/sample - loss: 0.2760 - acc: 0.9014 - val_loss: 0.3203 - val_acc: 0.8870\n",
      "Epoch 20/30\n",
      "55000/55000 [==============================] - 4s 70us/sample - loss: 0.2718 - acc: 0.9019 - val_loss: 0.3094 - val_acc: 0.8916\n",
      "Epoch 21/30\n",
      "55000/55000 [==============================] - 4s 77us/sample - loss: 0.2667 - acc: 0.9035 - val_loss: 0.3134 - val_acc: 0.8860\n",
      "Epoch 22/30\n",
      "55000/55000 [==============================] - 4s 74us/sample - loss: 0.2619 - acc: 0.9053 - val_loss: 0.3401 - val_acc: 0.8790\n",
      "Epoch 23/30\n",
      "55000/55000 [==============================] - 4s 73us/sample - loss: 0.2573 - acc: 0.9069 - val_loss: 0.3031 - val_acc: 0.8918\n",
      "Epoch 24/30\n",
      "55000/55000 [==============================] - 4s 76us/sample - loss: 0.2524 - acc: 0.9094 - val_loss: 0.3020 - val_acc: 0.8920\n",
      "Epoch 25/30\n",
      "55000/55000 [==============================] - 4s 76us/sample - loss: 0.2482 - acc: 0.9107 - val_loss: 0.2981 - val_acc: 0.8924\n",
      "Epoch 26/30\n",
      "55000/55000 [==============================] - 4s 73us/sample - loss: 0.2450 - acc: 0.9112 - val_loss: 0.3167 - val_acc: 0.8878\n",
      "Epoch 27/30\n",
      "55000/55000 [==============================] - 4s 71us/sample - loss: 0.2420 - acc: 0.9130 - val_loss: 0.3137 - val_acc: 0.8870\n",
      "Epoch 28/30\n",
      "55000/55000 [==============================] - 4s 70us/sample - loss: 0.2376 - acc: 0.9145 - val_loss: 0.3174 - val_acc: 0.8904\n",
      "Epoch 29/30\n",
      "55000/55000 [==============================] - 4s 70us/sample - loss: 0.2335 - acc: 0.9162 - val_loss: 0.3100 - val_acc: 0.8902\n",
      "Epoch 30/30\n",
      "55000/55000 [==============================] - 5s 85us/sample - loss: 0.2291 - acc: 0.9182 - val_loss: 0.2992 - val_acc: 0.8922\n"
     ]
    }
   ],
   "source": [
    "history = model.fit(X_train, y_train, epochs=30,validation_data=(X_valid, y_valid))"
   ]
  },
  {
   "cell_type": "code",
   "execution_count": 42,
   "metadata": {},
   "outputs": [
    {
     "data": {
      "image/png": "[encoded data removed]",
      "text/plain": [
       "<matplotlib.figure.Figure at 0x152811080>"
      ]
     },
     "metadata": {},
     "output_type": "display_data"
    }
   ],
   "source": [
    "import pandas as pd\n",
    "import matplotlib.pyplot as plt\n",
    "pd.DataFrame(history.history).plot(figsize=(8, 5))\n",
    "plt.grid(True)\n",
    "plt.gca().set_ylim(0, 1) # set the vertical range to [0-1]\n",
    "plt.show()"
   ]
  },
  {
   "cell_type": "code",
   "execution_count": 43,
   "metadata": {},
   "outputs": [
    {
     "name": "stdout",
     "output_type": "stream",
     "text": [
      "10000/10000 [==============================] - 0s 24us/sample - loss: 2.3965 - acc: 0.8489\n"
     ]
    },
    {
     "data": {
      "text/plain": [
       "[2.3965138593494872, 0.8489]"
      ]
     },
     "execution_count": 43,
     "metadata": {},
     "output_type": "execute_result"
    }
   ],
   "source": [
    "model.evaluate(X_test, y_test)"
   ]
  },
  {
   "cell_type": "code",
   "execution_count": 47,
   "metadata": {},
   "outputs": [
    {
     "data": {
      "text/plain": [
       "array([[0., 0., 0., 0., 0., 0., 0., 0., 0., 1.],\n",
       "       [0., 0., 1., 0., 0., 0., 0., 0., 0., 0.],\n",
       "       [0., 1., 0., 0., 0., 0., 0., 0., 0., 0.]], dtype=float32)"
      ]
     },
     "execution_count": 47,
     "metadata": {},
     "output_type": "execute_result"
    }
   ],
   "source": [
    "X_new = X_test[:3]\n",
    "y_proba = model.predict(X_new)\n",
    "y_proba"
   ]
  },
  {
   "cell_type": "code",
   "execution_count": 48,
   "metadata": {},
   "outputs": [
    {
     "data": {
      "text/plain": [
       "array([9, 2, 1], dtype=uint8)"
      ]
     },
     "execution_count": 48,
     "metadata": {},
     "output_type": "execute_result"
    }
   ],
   "source": [
    "y_new = y_test[:3]\n",
    "y_new"
   ]
  },
  {
   "cell_type": "code",
   "execution_count": null,
   "metadata": {
    "collapsed": true
   },
   "outputs": [],
   "source": []
  }
 ],
 "metadata": {
  "kernelspec": {
   "display_name": "Python 3",
   "language": "python",
   "name": "python3"
  },
  "language_info": {
   "codemirror_mode": {
    "name": "ipython",
    "version": 3
   },
   "file_extension": ".py",
   "mimetype": "text/x-python",
   "name": "python",
   "nbconvert_exporter": "python",
   "pygments_lexer": "ipython3",
   "version": "3.6.3"
  }
 },
 "nbformat": 4,
 "nbformat_minor": 2
}
