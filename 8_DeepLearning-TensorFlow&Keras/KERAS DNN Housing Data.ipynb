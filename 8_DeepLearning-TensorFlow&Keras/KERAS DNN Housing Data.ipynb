{
 "cells": [
  {
   "cell_type": "markdown",
   "metadata": {},
   "source": [
    "# Tutorial 3 - KERAS DNN\n",
    "\n",
    "We will predict the ocean proximity (`ocean_proximity` column) of Californian districts, given a number of features from these districts.\n",
    "\n",
    "**The unit of analysis is a DISTRICT**"
   ]
  },
  {
   "cell_type": "code",
   "execution_count": 1,
   "metadata": {
    "collapsed": true
   },
   "outputs": [],
   "source": [
    "# Common imports\n",
    "import numpy as np\n",
    "import os\n",
    "import pandas as pd\n",
    "import tensorflow as tf"
   ]
  },
  {
   "cell_type": "markdown",
   "metadata": {},
   "source": [
    "# Get the data"
   ]
  },
  {
   "cell_type": "code",
   "execution_count": 2,
   "metadata": {},
   "outputs": [
    {
     "data": {
      "text/html": [
       "<div>\n",
       "<style scoped>\n",
       "    .dataframe tbody tr th:only-of-type {\n",
       "        vertical-align: middle;\n",
       "    }\n",
       "\n",
       "    .dataframe tbody tr th {\n",
       "        vertical-align: top;\n",
       "    }\n",
       "\n",
       "    .dataframe thead th {\n",
       "        text-align: right;\n",
       "    }\n",
       "</style>\n",
       "<table border=\"1\" class=\"dataframe\">\n",
       "  <thead>\n",
       "    <tr style=\"text-align: right;\">\n",
       "      <th></th>\n",
       "      <th>longitude</th>\n",
       "      <th>latitude</th>\n",
       "      <th>housing_median_age</th>\n",
       "      <th>total_rooms</th>\n",
       "      <th>total_bedrooms</th>\n",
       "      <th>population</th>\n",
       "      <th>households</th>\n",
       "      <th>median_income</th>\n",
       "      <th>median_house_value</th>\n",
       "      <th>ocean_proximity</th>\n",
       "    </tr>\n",
       "  </thead>\n",
       "  <tbody>\n",
       "    <tr>\n",
       "      <th>0</th>\n",
       "      <td>-122.23</td>\n",
       "      <td>37.88</td>\n",
       "      <td>41.0</td>\n",
       "      <td>880.0</td>\n",
       "      <td>129.0</td>\n",
       "      <td>322.0</td>\n",
       "      <td>126.0</td>\n",
       "      <td>8.3252</td>\n",
       "      <td>452600.0</td>\n",
       "      <td>NEAR BAY</td>\n",
       "    </tr>\n",
       "    <tr>\n",
       "      <th>1</th>\n",
       "      <td>-122.22</td>\n",
       "      <td>37.86</td>\n",
       "      <td>21.0</td>\n",
       "      <td>7099.0</td>\n",
       "      <td>1106.0</td>\n",
       "      <td>2401.0</td>\n",
       "      <td>1138.0</td>\n",
       "      <td>8.3014</td>\n",
       "      <td>358500.0</td>\n",
       "      <td>NEAR BAY</td>\n",
       "    </tr>\n",
       "    <tr>\n",
       "      <th>2</th>\n",
       "      <td>-122.24</td>\n",
       "      <td>37.85</td>\n",
       "      <td>52.0</td>\n",
       "      <td>1467.0</td>\n",
       "      <td>190.0</td>\n",
       "      <td>496.0</td>\n",
       "      <td>177.0</td>\n",
       "      <td>7.2574</td>\n",
       "      <td>352100.0</td>\n",
       "      <td>NEAR BAY</td>\n",
       "    </tr>\n",
       "    <tr>\n",
       "      <th>3</th>\n",
       "      <td>-122.25</td>\n",
       "      <td>37.85</td>\n",
       "      <td>52.0</td>\n",
       "      <td>1274.0</td>\n",
       "      <td>235.0</td>\n",
       "      <td>558.0</td>\n",
       "      <td>219.0</td>\n",
       "      <td>5.6431</td>\n",
       "      <td>341300.0</td>\n",
       "      <td>NEAR BAY</td>\n",
       "    </tr>\n",
       "    <tr>\n",
       "      <th>4</th>\n",
       "      <td>-122.25</td>\n",
       "      <td>37.85</td>\n",
       "      <td>52.0</td>\n",
       "      <td>1627.0</td>\n",
       "      <td>280.0</td>\n",
       "      <td>565.0</td>\n",
       "      <td>259.0</td>\n",
       "      <td>3.8462</td>\n",
       "      <td>342200.0</td>\n",
       "      <td>NEAR BAY</td>\n",
       "    </tr>\n",
       "  </tbody>\n",
       "</table>\n",
       "</div>"
      ],
      "text/plain": [
       "   longitude  latitude  housing_median_age  total_rooms  total_bedrooms  \\\n",
       "0    -122.23     37.88                41.0        880.0           129.0   \n",
       "1    -122.22     37.86                21.0       7099.0          1106.0   \n",
       "2    -122.24     37.85                52.0       1467.0           190.0   \n",
       "3    -122.25     37.85                52.0       1274.0           235.0   \n",
       "4    -122.25     37.85                52.0       1627.0           280.0   \n",
       "\n",
       "   population  households  median_income  median_house_value ocean_proximity  \n",
       "0       322.0       126.0         8.3252            452600.0        NEAR BAY  \n",
       "1      2401.0      1138.0         8.3014            358500.0        NEAR BAY  \n",
       "2       496.0       177.0         7.2574            352100.0        NEAR BAY  \n",
       "3       558.0       219.0         5.6431            341300.0        NEAR BAY  \n",
       "4       565.0       259.0         3.8462            342200.0        NEAR BAY  "
      ]
     },
     "execution_count": 2,
     "metadata": {},
     "output_type": "execute_result"
    }
   ],
   "source": [
    "housing = pd.read_csv(\"housing.csv\")\n",
    "housing.head()"
   ]
  },
  {
   "cell_type": "code",
   "execution_count": 3,
   "metadata": {},
   "outputs": [
    {
     "data": {
      "text/html": [
       "<div>\n",
       "<style scoped>\n",
       "    .dataframe tbody tr th:only-of-type {\n",
       "        vertical-align: middle;\n",
       "    }\n",
       "\n",
       "    .dataframe tbody tr th {\n",
       "        vertical-align: top;\n",
       "    }\n",
       "\n",
       "    .dataframe thead th {\n",
       "        text-align: right;\n",
       "    }\n",
       "</style>\n",
       "<table border=\"1\" class=\"dataframe\">\n",
       "  <thead>\n",
       "    <tr style=\"text-align: right;\">\n",
       "      <th></th>\n",
       "      <th>longitude</th>\n",
       "      <th>latitude</th>\n",
       "      <th>housing_median_age</th>\n",
       "      <th>total_rooms</th>\n",
       "      <th>total_bedrooms</th>\n",
       "      <th>population</th>\n",
       "      <th>households</th>\n",
       "      <th>median_income</th>\n",
       "      <th>median_house_value</th>\n",
       "    </tr>\n",
       "  </thead>\n",
       "  <tbody>\n",
       "    <tr>\n",
       "      <th>count</th>\n",
       "      <td>20433.000000</td>\n",
       "      <td>20433.000000</td>\n",
       "      <td>20433.000000</td>\n",
       "      <td>20433.000000</td>\n",
       "      <td>20433.000000</td>\n",
       "      <td>20433.000000</td>\n",
       "      <td>20433.000000</td>\n",
       "      <td>20433.000000</td>\n",
       "      <td>20433.000000</td>\n",
       "    </tr>\n",
       "    <tr>\n",
       "      <th>mean</th>\n",
       "      <td>-119.570689</td>\n",
       "      <td>35.633221</td>\n",
       "      <td>28.633094</td>\n",
       "      <td>2636.504233</td>\n",
       "      <td>537.870553</td>\n",
       "      <td>1424.946949</td>\n",
       "      <td>499.433465</td>\n",
       "      <td>3.871162</td>\n",
       "      <td>206864.413155</td>\n",
       "    </tr>\n",
       "    <tr>\n",
       "      <th>std</th>\n",
       "      <td>2.003578</td>\n",
       "      <td>2.136348</td>\n",
       "      <td>12.591805</td>\n",
       "      <td>2185.269567</td>\n",
       "      <td>421.385070</td>\n",
       "      <td>1133.208490</td>\n",
       "      <td>382.299226</td>\n",
       "      <td>1.899291</td>\n",
       "      <td>115435.667099</td>\n",
       "    </tr>\n",
       "    <tr>\n",
       "      <th>min</th>\n",
       "      <td>-124.350000</td>\n",
       "      <td>32.540000</td>\n",
       "      <td>1.000000</td>\n",
       "      <td>2.000000</td>\n",
       "      <td>1.000000</td>\n",
       "      <td>3.000000</td>\n",
       "      <td>1.000000</td>\n",
       "      <td>0.499900</td>\n",
       "      <td>14999.000000</td>\n",
       "    </tr>\n",
       "    <tr>\n",
       "      <th>25%</th>\n",
       "      <td>-121.800000</td>\n",
       "      <td>33.930000</td>\n",
       "      <td>18.000000</td>\n",
       "      <td>1450.000000</td>\n",
       "      <td>296.000000</td>\n",
       "      <td>787.000000</td>\n",
       "      <td>280.000000</td>\n",
       "      <td>2.563700</td>\n",
       "      <td>119500.000000</td>\n",
       "    </tr>\n",
       "    <tr>\n",
       "      <th>50%</th>\n",
       "      <td>-118.490000</td>\n",
       "      <td>34.260000</td>\n",
       "      <td>29.000000</td>\n",
       "      <td>2127.000000</td>\n",
       "      <td>435.000000</td>\n",
       "      <td>1166.000000</td>\n",
       "      <td>409.000000</td>\n",
       "      <td>3.536500</td>\n",
       "      <td>179700.000000</td>\n",
       "    </tr>\n",
       "    <tr>\n",
       "      <th>75%</th>\n",
       "      <td>-118.010000</td>\n",
       "      <td>37.720000</td>\n",
       "      <td>37.000000</td>\n",
       "      <td>3143.000000</td>\n",
       "      <td>647.000000</td>\n",
       "      <td>1722.000000</td>\n",
       "      <td>604.000000</td>\n",
       "      <td>4.744000</td>\n",
       "      <td>264700.000000</td>\n",
       "    </tr>\n",
       "    <tr>\n",
       "      <th>max</th>\n",
       "      <td>-114.310000</td>\n",
       "      <td>41.950000</td>\n",
       "      <td>52.000000</td>\n",
       "      <td>39320.000000</td>\n",
       "      <td>6445.000000</td>\n",
       "      <td>35682.000000</td>\n",
       "      <td>6082.000000</td>\n",
       "      <td>15.000100</td>\n",
       "      <td>500001.000000</td>\n",
       "    </tr>\n",
       "  </tbody>\n",
       "</table>\n",
       "</div>"
      ],
      "text/plain": [
       "          longitude      latitude  housing_median_age   total_rooms  \\\n",
       "count  20433.000000  20433.000000        20433.000000  20433.000000   \n",
       "mean    -119.570689     35.633221           28.633094   2636.504233   \n",
       "std        2.003578      2.136348           12.591805   2185.269567   \n",
       "min     -124.350000     32.540000            1.000000      2.000000   \n",
       "25%     -121.800000     33.930000           18.000000   1450.000000   \n",
       "50%     -118.490000     34.260000           29.000000   2127.000000   \n",
       "75%     -118.010000     37.720000           37.000000   3143.000000   \n",
       "max     -114.310000     41.950000           52.000000  39320.000000   \n",
       "\n",
       "       total_bedrooms    population    households  median_income  \\\n",
       "count    20433.000000  20433.000000  20433.000000   20433.000000   \n",
       "mean       537.870553   1424.946949    499.433465       3.871162   \n",
       "std        421.385070   1133.208490    382.299226       1.899291   \n",
       "min          1.000000      3.000000      1.000000       0.499900   \n",
       "25%        296.000000    787.000000    280.000000       2.563700   \n",
       "50%        435.000000   1166.000000    409.000000       3.536500   \n",
       "75%        647.000000   1722.000000    604.000000       4.744000   \n",
       "max       6445.000000  35682.000000   6082.000000      15.000100   \n",
       "\n",
       "       median_house_value  \n",
       "count        20433.000000  \n",
       "mean        206864.413155  \n",
       "std         115435.667099  \n",
       "min          14999.000000  \n",
       "25%         119500.000000  \n",
       "50%         179700.000000  \n",
       "75%         264700.000000  \n",
       "max         500001.000000  "
      ]
     },
     "execution_count": 3,
     "metadata": {},
     "output_type": "execute_result"
    }
   ],
   "source": [
    "#Drop the missing values\n",
    "housing.dropna(axis=0, inplace=True)\n",
    "\n",
    "# Let's also reset the index\n",
    "housing.reset_index(inplace=True, drop=True)\n",
    "\n",
    "\n",
    "housing.describe()"
   ]
  },
  {
   "cell_type": "markdown",
   "metadata": {},
   "source": [
    "# Prepare the data for Machine Learning algorithms"
   ]
  },
  {
   "cell_type": "code",
   "execution_count": 4,
   "metadata": {
    "collapsed": true
   },
   "outputs": [],
   "source": [
    "#Set the training and test data sets\n",
    "housing_num = housing.drop(\"ocean_proximity\", axis=1) # drop labels \n",
    "\n",
    "#Select the label\n",
    "housing_target = housing[[\"ocean_proximity\"]]"
   ]
  },
  {
   "cell_type": "markdown",
   "metadata": {},
   "source": [
    "### Standardize the data"
   ]
  },
  {
   "cell_type": "code",
   "execution_count": 5,
   "metadata": {
    "collapsed": true
   },
   "outputs": [],
   "source": [
    "from sklearn.preprocessing import StandardScaler\n",
    "\n",
    "scaler = StandardScaler()\n",
    "\n",
    "housing_num_std = scaler.fit_transform(housing_num)"
   ]
  },
  {
   "cell_type": "code",
   "execution_count": 6,
   "metadata": {},
   "outputs": [
    {
     "data": {
      "text/plain": [
       "array([[-1.32731375,  1.05171726,  0.98216331, ..., -0.97683327,\n",
       "         2.34516291,  2.12881864],\n",
       "       [-1.32232256,  1.04235526, -0.60621017, ...,  1.67037262,\n",
       "         2.33263161,  1.31362603],\n",
       "       [-1.33230494,  1.03767426,  1.85576873, ..., -0.84342665,\n",
       "         1.78293943,  1.25818254],\n",
       "       ...,\n",
       "       [-0.82320322,  1.77727236, -0.92388486, ..., -0.17377773,\n",
       "        -1.14317103, -0.99247676],\n",
       "       [-0.87311515,  1.77727236, -0.84446619, ..., -0.39350628,\n",
       "        -1.05513604, -1.05831591],\n",
       "       [-0.83318561,  1.74918635, -1.00330353, ...,  0.07995643,\n",
       "        -0.78060586, -1.01759959]])"
      ]
     },
     "execution_count": 6,
     "metadata": {},
     "output_type": "execute_result"
    }
   ],
   "source": [
    "housing_num_std"
   ]
  },
  {
   "cell_type": "code",
   "execution_count": 7,
   "metadata": {
    "scrolled": true
   },
   "outputs": [
    {
     "data": {
      "text/plain": [
       "(20433, 9)"
      ]
     },
     "execution_count": 7,
     "metadata": {},
     "output_type": "execute_result"
    }
   ],
   "source": [
    "housing_num_std.shape"
   ]
  },
  {
   "cell_type": "markdown",
   "metadata": {},
   "source": [
    "### Convert back to a dataframe"
   ]
  },
  {
   "cell_type": "code",
   "execution_count": 8,
   "metadata": {},
   "outputs": [
    {
     "data": {
      "text/html": [
       "<div>\n",
       "<style scoped>\n",
       "    .dataframe tbody tr th:only-of-type {\n",
       "        vertical-align: middle;\n",
       "    }\n",
       "\n",
       "    .dataframe tbody tr th {\n",
       "        vertical-align: top;\n",
       "    }\n",
       "\n",
       "    .dataframe thead th {\n",
       "        text-align: right;\n",
       "    }\n",
       "</style>\n",
       "<table border=\"1\" class=\"dataframe\">\n",
       "  <thead>\n",
       "    <tr style=\"text-align: right;\">\n",
       "      <th></th>\n",
       "      <th>longitude</th>\n",
       "      <th>latitude</th>\n",
       "      <th>housing_median_age</th>\n",
       "      <th>total_rooms</th>\n",
       "      <th>total_bedrooms</th>\n",
       "      <th>population</th>\n",
       "      <th>households</th>\n",
       "      <th>median_income</th>\n",
       "      <th>median_house_value</th>\n",
       "    </tr>\n",
       "  </thead>\n",
       "  <tbody>\n",
       "    <tr>\n",
       "      <th>0</th>\n",
       "      <td>-1.327314</td>\n",
       "      <td>1.051717</td>\n",
       "      <td>0.982163</td>\n",
       "      <td>-0.803813</td>\n",
       "      <td>-0.970325</td>\n",
       "      <td>-0.973320</td>\n",
       "      <td>-0.976833</td>\n",
       "      <td>2.345163</td>\n",
       "      <td>2.128819</td>\n",
       "    </tr>\n",
       "    <tr>\n",
       "      <th>1</th>\n",
       "      <td>-1.322323</td>\n",
       "      <td>1.042355</td>\n",
       "      <td>-0.606210</td>\n",
       "      <td>2.042130</td>\n",
       "      <td>1.348276</td>\n",
       "      <td>0.861339</td>\n",
       "      <td>1.670373</td>\n",
       "      <td>2.332632</td>\n",
       "      <td>1.313626</td>\n",
       "    </tr>\n",
       "    <tr>\n",
       "      <th>2</th>\n",
       "      <td>-1.332305</td>\n",
       "      <td>1.037674</td>\n",
       "      <td>1.855769</td>\n",
       "      <td>-0.535189</td>\n",
       "      <td>-0.825561</td>\n",
       "      <td>-0.819769</td>\n",
       "      <td>-0.843427</td>\n",
       "      <td>1.782939</td>\n",
       "      <td>1.258183</td>\n",
       "    </tr>\n",
       "    <tr>\n",
       "      <th>3</th>\n",
       "      <td>-1.337296</td>\n",
       "      <td>1.037674</td>\n",
       "      <td>1.855769</td>\n",
       "      <td>-0.623510</td>\n",
       "      <td>-0.718768</td>\n",
       "      <td>-0.765056</td>\n",
       "      <td>-0.733562</td>\n",
       "      <td>0.932970</td>\n",
       "      <td>1.164622</td>\n",
       "    </tr>\n",
       "    <tr>\n",
       "      <th>4</th>\n",
       "      <td>-1.337296</td>\n",
       "      <td>1.037674</td>\n",
       "      <td>1.855769</td>\n",
       "      <td>-0.461970</td>\n",
       "      <td>-0.611974</td>\n",
       "      <td>-0.758879</td>\n",
       "      <td>-0.628930</td>\n",
       "      <td>-0.013143</td>\n",
       "      <td>1.172418</td>\n",
       "    </tr>\n",
       "  </tbody>\n",
       "</table>\n",
       "</div>"
      ],
      "text/plain": [
       "   longitude  latitude  housing_median_age  total_rooms  total_bedrooms  \\\n",
       "0  -1.327314  1.051717            0.982163    -0.803813       -0.970325   \n",
       "1  -1.322323  1.042355           -0.606210     2.042130        1.348276   \n",
       "2  -1.332305  1.037674            1.855769    -0.535189       -0.825561   \n",
       "3  -1.337296  1.037674            1.855769    -0.623510       -0.718768   \n",
       "4  -1.337296  1.037674            1.855769    -0.461970       -0.611974   \n",
       "\n",
       "   population  households  median_income  median_house_value  \n",
       "0   -0.973320   -0.976833       2.345163            2.128819  \n",
       "1    0.861339    1.670373       2.332632            1.313626  \n",
       "2   -0.819769   -0.843427       1.782939            1.258183  \n",
       "3   -0.765056   -0.733562       0.932970            1.164622  \n",
       "4   -0.758879   -0.628930      -0.013143            1.172418  "
      ]
     },
     "execution_count": 8,
     "metadata": {},
     "output_type": "execute_result"
    }
   ],
   "source": [
    "housing_num_std_df = pd.DataFrame(housing_num_std, columns=housing_num.columns)\n",
    "\n",
    "housing_num_std_df.head(5)"
   ]
  },
  {
   "cell_type": "markdown",
   "metadata": {},
   "source": [
    "### Create the label column\n",
    "\n",
    "Tensorflow wants the labels in integer form. So, we need to do Ordinal Encoding, then convert the numbers to integers."
   ]
  },
  {
   "cell_type": "code",
   "execution_count": 9,
   "metadata": {},
   "outputs": [
    {
     "data": {
      "text/plain": [
       "array([[3.],\n",
       "       [3.],\n",
       "       [3.],\n",
       "       [3.],\n",
       "       [3.],\n",
       "       [3.],\n",
       "       [3.],\n",
       "       [3.],\n",
       "       [3.],\n",
       "       [3.]])"
      ]
     },
     "execution_count": 9,
     "metadata": {},
     "output_type": "execute_result"
    }
   ],
   "source": [
    "from sklearn.preprocessing import OrdinalEncoder\n",
    "\n",
    "ordinal_encoder = OrdinalEncoder()\n",
    "\n",
    "housing_labels_ord = ordinal_encoder.fit_transform(housing_target)\n",
    "\n",
    "housing_labels_ord[:10]"
   ]
  },
  {
   "cell_type": "code",
   "execution_count": 10,
   "metadata": {},
   "outputs": [
    {
     "data": {
      "text/plain": [
       "dtype('float64')"
      ]
     },
     "execution_count": 10,
     "metadata": {},
     "output_type": "execute_result"
    }
   ],
   "source": [
    "# Data type is float. It needs to be integer\n",
    "housing_labels_ord.dtype"
   ]
  },
  {
   "cell_type": "code",
   "execution_count": 11,
   "metadata": {},
   "outputs": [
    {
     "data": {
      "text/plain": [
       "dtype('int64')"
      ]
     },
     "execution_count": 11,
     "metadata": {},
     "output_type": "execute_result"
    }
   ],
   "source": [
    "#Convert to integer\n",
    "\n",
    "housing_labels_int = housing_labels_ord.astype(int)\n",
    "\n",
    "housing_labels_int.dtype"
   ]
  },
  {
   "cell_type": "code",
   "execution_count": null,
   "metadata": {
    "collapsed": true
   },
   "outputs": [],
   "source": []
  },
  {
   "cell_type": "code",
   "execution_count": 12,
   "metadata": {},
   "outputs": [
    {
     "data": {
      "text/plain": [
       "array([3, 3, 3, ..., 1, 1, 1])"
      ]
     },
     "execution_count": 12,
     "metadata": {},
     "output_type": "execute_result"
    }
   ],
   "source": [
    "#We need to convert this to a 1-D array using RAVEL\n",
    "\n",
    "housing_labels_int_1d = np.ravel(housing_labels_int)\n",
    "\n",
    "housing_labels_int_1d"
   ]
  },
  {
   "cell_type": "markdown",
   "metadata": {},
   "source": [
    "# Split data (train/test)"
   ]
  },
  {
   "cell_type": "code",
   "execution_count": 13,
   "metadata": {
    "collapsed": true
   },
   "outputs": [],
   "source": [
    "from sklearn.model_selection import train_test_split\n",
    "\n",
    "train_x, test_x, train_y, test_y = train_test_split(housing_num_std_df, housing_labels_int_1d, test_size=0.3)"
   ]
  },
  {
   "cell_type": "code",
   "execution_count": null,
   "metadata": {
    "collapsed": true
   },
   "outputs": [],
   "source": []
  },
  {
   "cell_type": "markdown",
   "metadata": {},
   "source": [
    "# Multiclass classification using Keras\n",
    "\n"
   ]
  },
  {
   "cell_type": "code",
   "execution_count": 14,
   "metadata": {},
   "outputs": [
    {
     "name": "stderr",
     "output_type": "stream",
     "text": [
      "Using TensorFlow backend.\n"
     ]
    }
   ],
   "source": [
    "import keras\n",
    "from keras.models import Sequential\n",
    "from keras.layers import Dense\n",
    "from keras.layers import Dropout\n",
    "\n",
    "# fix random seed for reproducibility\n",
    "np.random.seed(42)"
   ]
  },
  {
   "cell_type": "code",
   "execution_count": 19,
   "metadata": {},
   "outputs": [],
   "source": [
    "#Define the model: for multi-class\n",
    "\n",
    "model = Sequential()\n",
    "\n",
    "model.add(Dense(50, input_dim=9, activation='relu'))\n",
    "model.add(Dense(25, activation='relu'))\n",
    "model.add(Dense(10, activation='relu'))\n",
    "\n",
    "#final layer: there has to be 5 nodes with softmax (because we have 5 categories)\n",
    "model.add(Dense(5, activation='softmax'))\n"
   ]
  },
  {
   "cell_type": "raw",
   "metadata": {},
   "source": [
    "IF BINARY CLASSIFICATION, change the last layer as follows:\n",
    "\n",
    "model.add(Dense(1, activation='sigmoid'))"
   ]
  },
  {
   "cell_type": "code",
   "execution_count": 20,
   "metadata": {},
   "outputs": [],
   "source": [
    "# Compile model\n",
    "\n",
    "#Optimizer:\n",
    "sgd = keras.optimizers.SGD(lr=0.05)\n",
    "\n",
    "\n",
    "#You need to use \"categorical_crossentropy\" for mutli-class\n",
    "#but since our target is ordinal, we need to use \"sparse_...\"\n",
    "#if it is binary classification, then use binary_crossentropy\n",
    "\n",
    "model.compile(loss='sparse_categorical_crossentropy', optimizer=sgd, metrics=['accuracy'])"
   ]
  },
  {
   "cell_type": "code",
   "execution_count": 21,
   "metadata": {},
   "outputs": [
    {
     "name": "stdout",
     "output_type": "stream",
     "text": [
      "Epoch 1/100\n",
      "14303/14303 [==============================] - 0s 18us/step - loss: 1.1324 - accuracy: 0.5715\n",
      "Epoch 2/100\n",
      "14303/14303 [==============================] - 0s 11us/step - loss: 0.7425 - accuracy: 0.7270\n",
      "Epoch 3/100\n",
      "14303/14303 [==============================] - 0s 11us/step - loss: 0.6016 - accuracy: 0.7741\n",
      "Epoch 4/100\n",
      "14303/14303 [==============================] - 0s 12us/step - loss: 0.4954 - accuracy: 0.8056\n",
      "Epoch 5/100\n",
      "14303/14303 [==============================] - 0s 12us/step - loss: 0.4208 - accuracy: 0.8347\n",
      "Epoch 6/100\n",
      "14303/14303 [==============================] - 0s 12us/step - loss: 0.3921 - accuracy: 0.8442\n",
      "Epoch 7/100\n",
      "14303/14303 [==============================] - 0s 11us/step - loss: 0.3733 - accuracy: 0.8499\n",
      "Epoch 8/100\n",
      "14303/14303 [==============================] - 0s 12us/step - loss: 0.3723 - accuracy: 0.8523\n",
      "Epoch 9/100\n",
      "14303/14303 [==============================] - 0s 12us/step - loss: 0.3445 - accuracy: 0.8623\n",
      "Epoch 10/100\n",
      "14303/14303 [==============================] - 0s 11us/step - loss: 0.3442 - accuracy: 0.8634\n",
      "Epoch 11/100\n",
      "14303/14303 [==============================] - 0s 12us/step - loss: 0.3413 - accuracy: 0.8625\n",
      "Epoch 12/100\n",
      "14303/14303 [==============================] - 0s 13us/step - loss: 0.3260 - accuracy: 0.8666\n",
      "Epoch 13/100\n",
      "14303/14303 [==============================] - 0s 12us/step - loss: 0.3211 - accuracy: 0.8741\n",
      "Epoch 14/100\n",
      "14303/14303 [==============================] - 0s 13us/step - loss: 0.3051 - accuracy: 0.8752\n",
      "Epoch 15/100\n",
      "14303/14303 [==============================] - 0s 13us/step - loss: 0.2945 - accuracy: 0.8819\n",
      "Epoch 16/100\n",
      "14303/14303 [==============================] - 0s 13us/step - loss: 0.3047 - accuracy: 0.8759\n",
      "Epoch 17/100\n",
      "14303/14303 [==============================] - 0s 13us/step - loss: 0.2944 - accuracy: 0.8795\n",
      "Epoch 18/100\n",
      "14303/14303 [==============================] - 0s 12us/step - loss: 0.2813 - accuracy: 0.8823\n",
      "Epoch 19/100\n",
      "14303/14303 [==============================] - 0s 13us/step - loss: 0.2837 - accuracy: 0.8821\n",
      "Epoch 20/100\n",
      "14303/14303 [==============================] - 0s 13us/step - loss: 0.3110 - accuracy: 0.8811\n",
      "Epoch 21/100\n",
      "14303/14303 [==============================] - 0s 13us/step - loss: 0.2702 - accuracy: 0.8855\n",
      "Epoch 22/100\n",
      "14303/14303 [==============================] - 0s 12us/step - loss: 0.2621 - accuracy: 0.8910\n",
      "Epoch 23/100\n",
      "14303/14303 [==============================] - 0s 12us/step - loss: 0.2630 - accuracy: 0.8909\n",
      "Epoch 24/100\n",
      "14303/14303 [==============================] - 0s 12us/step - loss: 0.2556 - accuracy: 0.8945\n",
      "Epoch 25/100\n",
      "14303/14303 [==============================] - 0s 12us/step - loss: 0.2753 - accuracy: 0.8889\n",
      "Epoch 26/100\n",
      "14303/14303 [==============================] - 0s 12us/step - loss: 0.2505 - accuracy: 0.8960\n",
      "Epoch 27/100\n",
      "14303/14303 [==============================] - 0s 13us/step - loss: 0.2493 - accuracy: 0.8965\n",
      "Epoch 28/100\n",
      "14303/14303 [==============================] - 0s 12us/step - loss: 0.2506 - accuracy: 0.8975\n",
      "Epoch 29/100\n",
      "14303/14303 [==============================] - 0s 12us/step - loss: 0.2443 - accuracy: 0.8985\n",
      "Epoch 30/100\n",
      "14303/14303 [==============================] - 0s 12us/step - loss: 0.2398 - accuracy: 0.8993\n",
      "Epoch 31/100\n",
      "14303/14303 [==============================] - 0s 13us/step - loss: 0.2323 - accuracy: 0.9038\n",
      "Epoch 32/100\n",
      "14303/14303 [==============================] - 0s 13us/step - loss: 0.2471 - accuracy: 0.9000\n",
      "Epoch 33/100\n",
      "14303/14303 [==============================] - 0s 13us/step - loss: 0.2493 - accuracy: 0.9011\n",
      "Epoch 34/100\n",
      "14303/14303 [==============================] - 0s 13us/step - loss: 0.2291 - accuracy: 0.9052\n",
      "Epoch 35/100\n",
      "14303/14303 [==============================] - 0s 12us/step - loss: 0.2225 - accuracy: 0.9097\n",
      "Epoch 36/100\n",
      "14303/14303 [==============================] - 0s 12us/step - loss: 0.2180 - accuracy: 0.9099\n",
      "Epoch 37/100\n",
      "14303/14303 [==============================] - 0s 13us/step - loss: 0.2163 - accuracy: 0.9100\n",
      "Epoch 38/100\n",
      "14303/14303 [==============================] - 0s 13us/step - loss: 0.2572 - accuracy: 0.8955\n",
      "Epoch 39/100\n",
      "14303/14303 [==============================] - 0s 13us/step - loss: 0.2139 - accuracy: 0.9076\n",
      "Epoch 40/100\n",
      "14303/14303 [==============================] - 0s 13us/step - loss: 0.2077 - accuracy: 0.9147\n",
      "Epoch 41/100\n",
      "14303/14303 [==============================] - 0s 12us/step - loss: 0.2093 - accuracy: 0.9115\n",
      "Epoch 42/100\n",
      "14303/14303 [==============================] - 0s 12us/step - loss: 0.2071 - accuracy: 0.9155\n",
      "Epoch 43/100\n",
      "14303/14303 [==============================] - 0s 13us/step - loss: 0.2012 - accuracy: 0.9135\n",
      "Epoch 44/100\n",
      "14303/14303 [==============================] - 0s 13us/step - loss: 0.2007 - accuracy: 0.9154\n",
      "Epoch 45/100\n",
      "14303/14303 [==============================] - 0s 12us/step - loss: 0.1966 - accuracy: 0.9159\n",
      "Epoch 46/100\n",
      "14303/14303 [==============================] - 0s 12us/step - loss: 0.1957 - accuracy: 0.9177\n",
      "Epoch 47/100\n",
      "14303/14303 [==============================] - 0s 12us/step - loss: 0.1999 - accuracy: 0.9150\n",
      "Epoch 48/100\n",
      "14303/14303 [==============================] - 0s 12us/step - loss: 0.1977 - accuracy: 0.9166\n",
      "Epoch 49/100\n",
      "14303/14303 [==============================] - 0s 12us/step - loss: 0.1930 - accuracy: 0.9179\n",
      "Epoch 50/100\n",
      "14303/14303 [==============================] - 0s 12us/step - loss: 0.1899 - accuracy: 0.9182\n",
      "Epoch 51/100\n",
      "14303/14303 [==============================] - 0s 11us/step - loss: 0.1879 - accuracy: 0.9208\n",
      "Epoch 52/100\n",
      "14303/14303 [==============================] - 0s 11us/step - loss: 0.1919 - accuracy: 0.9200\n",
      "Epoch 53/100\n",
      "14303/14303 [==============================] - 0s 12us/step - loss: 0.1959 - accuracy: 0.9177\n",
      "Epoch 54/100\n",
      "14303/14303 [==============================] - 0s 12us/step - loss: 0.1776 - accuracy: 0.9228\n",
      "Epoch 55/100\n",
      "14303/14303 [==============================] - 0s 13us/step - loss: 0.1821 - accuracy: 0.9219\n",
      "Epoch 56/100\n",
      "14303/14303 [==============================] - 0s 13us/step - loss: 0.1839 - accuracy: 0.9229\n",
      "Epoch 57/100\n",
      "14303/14303 [==============================] - 0s 13us/step - loss: 0.1819 - accuracy: 0.9208\n",
      "Epoch 58/100\n",
      "14303/14303 [==============================] - 0s 13us/step - loss: 0.1824 - accuracy: 0.9206\n",
      "Epoch 59/100\n",
      "14303/14303 [==============================] - 0s 13us/step - loss: 0.1835 - accuracy: 0.9206\n",
      "Epoch 60/100\n",
      "14303/14303 [==============================] - 0s 13us/step - loss: 0.2022 - accuracy: 0.9175\n",
      "Epoch 61/100\n",
      "14303/14303 [==============================] - 0s 13us/step - loss: 0.1794 - accuracy: 0.9198\n",
      "Epoch 62/100\n",
      "14303/14303 [==============================] - 0s 13us/step - loss: 0.1933 - accuracy: 0.9200\n",
      "Epoch 63/100\n",
      "14303/14303 [==============================] - 0s 13us/step - loss: 0.1789 - accuracy: 0.9218\n",
      "Epoch 64/100\n",
      "14303/14303 [==============================] - 0s 13us/step - loss: 0.1898 - accuracy: 0.9172\n",
      "Epoch 65/100\n",
      "14303/14303 [==============================] - 0s 13us/step - loss: 0.1807 - accuracy: 0.9225\n",
      "Epoch 66/100\n",
      "14303/14303 [==============================] - 0s 12us/step - loss: 0.1829 - accuracy: 0.9230\n",
      "Epoch 67/100\n",
      "14303/14303 [==============================] - 0s 12us/step - loss: 0.1730 - accuracy: 0.9252\n",
      "Epoch 68/100\n",
      "14303/14303 [==============================] - 0s 12us/step - loss: 0.1928 - accuracy: 0.9174\n",
      "Epoch 69/100\n",
      "14303/14303 [==============================] - 0s 13us/step - loss: 0.1746 - accuracy: 0.9246\n",
      "Epoch 70/100\n",
      "14303/14303 [==============================] - 0s 12us/step - loss: 0.1952 - accuracy: 0.9207\n",
      "Epoch 71/100\n",
      "14303/14303 [==============================] - 0s 12us/step - loss: 0.1722 - accuracy: 0.9241\n",
      "Epoch 72/100\n",
      "14303/14303 [==============================] - 0s 12us/step - loss: 0.1739 - accuracy: 0.9267\n",
      "Epoch 73/100\n",
      "14303/14303 [==============================] - 0s 12us/step - loss: 0.1692 - accuracy: 0.9255\n",
      "Epoch 74/100\n",
      "14303/14303 [==============================] - 0s 11us/step - loss: 0.1690 - accuracy: 0.9260\n",
      "Epoch 75/100\n",
      "14303/14303 [==============================] - 0s 11us/step - loss: 0.1750 - accuracy: 0.9257\n",
      "Epoch 76/100\n",
      "14303/14303 [==============================] - 0s 12us/step - loss: 0.1633 - accuracy: 0.9296\n",
      "Epoch 77/100\n"
     ]
    },
    {
     "name": "stdout",
     "output_type": "stream",
     "text": [
      "14303/14303 [==============================] - 0s 12us/step - loss: 0.1757 - accuracy: 0.9248\n",
      "Epoch 78/100\n",
      "14303/14303 [==============================] - 0s 12us/step - loss: 0.1723 - accuracy: 0.9264\n",
      "Epoch 79/100\n",
      "14303/14303 [==============================] - 0s 12us/step - loss: 0.1611 - accuracy: 0.9299\n",
      "Epoch 80/100\n",
      "14303/14303 [==============================] - 0s 12us/step - loss: 0.1715 - accuracy: 0.9265\n",
      "Epoch 81/100\n",
      "14303/14303 [==============================] - 0s 12us/step - loss: 0.1693 - accuracy: 0.9260\n",
      "Epoch 82/100\n",
      "14303/14303 [==============================] - 0s 12us/step - loss: 0.1659 - accuracy: 0.9292\n",
      "Epoch 83/100\n",
      "14303/14303 [==============================] - 0s 12us/step - loss: 0.1636 - accuracy: 0.9306\n",
      "Epoch 84/100\n",
      "14303/14303 [==============================] - 0s 12us/step - loss: 0.1704 - accuracy: 0.9283\n",
      "Epoch 85/100\n",
      "14303/14303 [==============================] - 0s 12us/step - loss: 0.1649 - accuracy: 0.9263\n",
      "Epoch 86/100\n",
      "14303/14303 [==============================] - 0s 12us/step - loss: 0.1664 - accuracy: 0.9284\n",
      "Epoch 87/100\n",
      "14303/14303 [==============================] - 0s 13us/step - loss: 0.1618 - accuracy: 0.9290\n",
      "Epoch 88/100\n",
      "14303/14303 [==============================] - 0s 12us/step - loss: 0.1593 - accuracy: 0.9322\n",
      "Epoch 89/100\n",
      "14303/14303 [==============================] - 0s 12us/step - loss: 0.1649 - accuracy: 0.9282\n",
      "Epoch 90/100\n",
      "14303/14303 [==============================] - 0s 13us/step - loss: 0.1581 - accuracy: 0.9319\n",
      "Epoch 91/100\n",
      "14303/14303 [==============================] - 0s 13us/step - loss: 0.1602 - accuracy: 0.9306\n",
      "Epoch 92/100\n",
      "14303/14303 [==============================] - 0s 13us/step - loss: 0.1720 - accuracy: 0.9281\n",
      "Epoch 93/100\n",
      "14303/14303 [==============================] - 0s 13us/step - loss: 0.1642 - accuracy: 0.9298\n",
      "Epoch 94/100\n",
      "14303/14303 [==============================] - 0s 13us/step - loss: 0.1555 - accuracy: 0.9346\n",
      "Epoch 95/100\n",
      "14303/14303 [==============================] - 0s 13us/step - loss: 0.1598 - accuracy: 0.9323\n",
      "Epoch 96/100\n",
      "14303/14303 [==============================] - 0s 13us/step - loss: 0.1786 - accuracy: 0.9287\n",
      "Epoch 97/100\n",
      "14303/14303 [==============================] - 0s 13us/step - loss: 0.1774 - accuracy: 0.9286\n",
      "Epoch 98/100\n",
      "14303/14303 [==============================] - 0s 13us/step - loss: 0.1826 - accuracy: 0.9303\n",
      "Epoch 99/100\n",
      "14303/14303 [==============================] - 0s 13us/step - loss: 0.1766 - accuracy: 0.9262\n",
      "Epoch 100/100\n",
      "14303/14303 [==============================] - 0s 13us/step - loss: 0.1554 - accuracy: 0.9350\n"
     ]
    },
    {
     "data": {
      "text/plain": [
       "<keras.callbacks.callbacks.History at 0x1a29e632b0>"
      ]
     },
     "execution_count": 21,
     "metadata": {},
     "output_type": "execute_result"
    }
   ],
   "source": [
    "# Fit the model\n",
    "\n",
    "model.fit(train_x, train_y, epochs=100, batch_size=100)"
   ]
  },
  {
   "cell_type": "code",
   "execution_count": null,
   "metadata": {},
   "outputs": [],
   "source": [
    "# evaluate the model\n",
    "\n",
    "scores = model.evaluate(test_x, test_y)\n",
    "print(\"\\n%s: %.2f%%\" % (model.metrics_names[1], scores[1]*100))"
   ]
  },
  {
   "cell_type": "markdown",
   "metadata": {},
   "source": [
    "# Optimizers, Learning rate, Dropout, Initialization & Activation functions"
   ]
  },
  {
   "cell_type": "code",
   "execution_count": 25,
   "metadata": {},
   "outputs": [],
   "source": [
    "#Define the model: for multi-class\n",
    "\n",
    "\n",
    "#Set the learning rate:\n",
    "lr=0.001\n",
    "\n",
    "\n",
    "#Available optimizers:\n",
    "adagrad = keras.optimizers.Adagrad(lr=lr, decay=0.0)\n",
    "sgd = keras.optimizers.SGD(lr=lr, momentum=0.0, decay=0.0, nesterov=False)\n",
    "rmsprop = keras.optimizers.RMSprop(lr=lr, rho=0.9, decay=0.0)\n",
    "adam = keras.optimizers.Adam(lr=lr, beta_1=0.9, beta_2=0.999, decay=0.0, amsgrad=False)\n",
    "nesterov_adam = keras.optimizers.Nadam(lr=lr, beta_1=0.9, beta_2=0.999, schedule_decay=0.004)\n",
    "\n",
    "#Initializations:\n",
    "xavier = keras.initializers.glorot_normal(seed=None)\n",
    "he = keras.initializers.he_normal(seed=None)\n",
    "\n",
    "\n",
    "# Activation functions. Uncomment only one\n",
    "#activation = 'elu' \n",
    "activation = 'relu'\n",
    "#activation = 'tanh'\n",
    "#activation = 'sigmoid'\n",
    "\n",
    "\n",
    "\n",
    "#See the droput layers below:\n",
    "model = Sequential()\n",
    "\n",
    "model.add(Dense(50, input_dim=9, activation=activation, kernel_initializer=xavier))\n",
    "\n",
    "model.add(Dropout(0.2))\n",
    "\n",
    "model.add(Dense(25, activation=activation, kernel_initializer=xavier))\n",
    "\n",
    "model.add(Dropout(0.2))\n",
    "\n",
    "model.add(Dense(10, activation=activation, kernel_initializer=xavier))\n",
    "\n",
    "#final layer: there has to be 5 nodes with softmax (because we have 5 categories)\n",
    "model.add(Dense(5, activation='softmax'))\n",
    "\n",
    "\n",
    "\n",
    "#Compile\"\n",
    "model.compile(loss='sparse_categorical_crossentropy', \n",
    "              optimizer=nesterov_adam, metrics=['accuracy'])"
   ]
  },
  {
   "cell_type": "code",
   "execution_count": 23,
   "metadata": {},
   "outputs": [
    {
     "name": "stdout",
     "output_type": "stream",
     "text": [
      "Epoch 1/100\n",
      "14303/14303 [==============================] - 0s 34us/step - loss: 1.3030 - accuracy: 0.5235\n",
      "Epoch 2/100\n",
      "14303/14303 [==============================] - 0s 17us/step - loss: 0.8429 - accuracy: 0.6932\n",
      "Epoch 3/100\n",
      "14303/14303 [==============================] - 0s 17us/step - loss: 0.7390 - accuracy: 0.7293\n",
      "Epoch 4/100\n",
      "14303/14303 [==============================] - 0s 17us/step - loss: 0.6815 - accuracy: 0.7467\n",
      "Epoch 5/100\n",
      "14303/14303 [==============================] - 0s 18us/step - loss: 0.6270 - accuracy: 0.7602\n",
      "Epoch 6/100\n",
      "14303/14303 [==============================] - 0s 17us/step - loss: 0.5840 - accuracy: 0.7723\n",
      "Epoch 7/100\n",
      "14303/14303 [==============================] - 0s 17us/step - loss: 0.5433 - accuracy: 0.7852\n",
      "Epoch 8/100\n",
      "14303/14303 [==============================] - 0s 17us/step - loss: 0.5061 - accuracy: 0.7957\n",
      "Epoch 9/100\n",
      "14303/14303 [==============================] - 0s 18us/step - loss: 0.4826 - accuracy: 0.8041\n",
      "Epoch 10/100\n",
      "14303/14303 [==============================] - 0s 19us/step - loss: 0.4510 - accuracy: 0.8158\n",
      "Epoch 11/100\n",
      "14303/14303 [==============================] - 0s 19us/step - loss: 0.4402 - accuracy: 0.8198\n",
      "Epoch 12/100\n",
      "14303/14303 [==============================] - 0s 18us/step - loss: 0.4231 - accuracy: 0.8302\n",
      "Epoch 13/100\n",
      "14303/14303 [==============================] - 0s 17us/step - loss: 0.4116 - accuracy: 0.8330\n",
      "Epoch 14/100\n",
      "14303/14303 [==============================] - 0s 18us/step - loss: 0.3972 - accuracy: 0.8374\n",
      "Epoch 15/100\n",
      "14303/14303 [==============================] - 0s 18us/step - loss: 0.3854 - accuracy: 0.8414\n",
      "Epoch 16/100\n",
      "14303/14303 [==============================] - 0s 19us/step - loss: 0.3807 - accuracy: 0.8428\n",
      "Epoch 17/100\n",
      "14303/14303 [==============================] - 0s 19us/step - loss: 0.3742 - accuracy: 0.8454\n",
      "Epoch 18/100\n",
      "14303/14303 [==============================] - 0s 19us/step - loss: 0.3639 - accuracy: 0.8519\n",
      "Epoch 19/100\n",
      "14303/14303 [==============================] - 0s 17us/step - loss: 0.3560 - accuracy: 0.8567\n",
      "Epoch 20/100\n",
      "14303/14303 [==============================] - 0s 18us/step - loss: 0.3523 - accuracy: 0.8561 0s - loss: 0.3534 - accuracy: 0.\n",
      "Epoch 21/100\n",
      "14303/14303 [==============================] - 0s 18us/step - loss: 0.3470 - accuracy: 0.8578\n",
      "Epoch 22/100\n",
      "14303/14303 [==============================] - 0s 18us/step - loss: 0.3422 - accuracy: 0.8596\n",
      "Epoch 23/100\n",
      "14303/14303 [==============================] - 0s 20us/step - loss: 0.3326 - accuracy: 0.8605\n",
      "Epoch 24/100\n",
      "14303/14303 [==============================] - 0s 19us/step - loss: 0.3309 - accuracy: 0.8640\n",
      "Epoch 25/100\n",
      "14303/14303 [==============================] - 0s 18us/step - loss: 0.3291 - accuracy: 0.8640\n",
      "Epoch 26/100\n",
      "14303/14303 [==============================] - 0s 17us/step - loss: 0.3222 - accuracy: 0.8689\n",
      "Epoch 27/100\n",
      "14303/14303 [==============================] - 0s 18us/step - loss: 0.3166 - accuracy: 0.8716\n",
      "Epoch 28/100\n",
      "14303/14303 [==============================] - 0s 19us/step - loss: 0.3110 - accuracy: 0.8746\n",
      "Epoch 29/100\n",
      "14303/14303 [==============================] - 0s 19us/step - loss: 0.3044 - accuracy: 0.8779\n",
      "Epoch 30/100\n",
      "14303/14303 [==============================] - 0s 18us/step - loss: 0.3030 - accuracy: 0.8774\n",
      "Epoch 31/100\n",
      "14303/14303 [==============================] - 0s 17us/step - loss: 0.2886 - accuracy: 0.8828\n",
      "Epoch 32/100\n",
      "14303/14303 [==============================] - 0s 17us/step - loss: 0.2941 - accuracy: 0.8815\n",
      "Epoch 33/100\n",
      "14303/14303 [==============================] - 0s 18us/step - loss: 0.2916 - accuracy: 0.8816\n",
      "Epoch 34/100\n",
      "14303/14303 [==============================] - 0s 17us/step - loss: 0.2861 - accuracy: 0.8849\n",
      "Epoch 35/100\n",
      "14303/14303 [==============================] - 0s 17us/step - loss: 0.2829 - accuracy: 0.8855\n",
      "Epoch 36/100\n",
      "14303/14303 [==============================] - 0s 17us/step - loss: 0.2786 - accuracy: 0.8881\n",
      "Epoch 37/100\n",
      "14303/14303 [==============================] - 0s 17us/step - loss: 0.2755 - accuracy: 0.8903\n",
      "Epoch 38/100\n",
      "14303/14303 [==============================] - 0s 17us/step - loss: 0.2633 - accuracy: 0.8932\n",
      "Epoch 39/100\n",
      "14303/14303 [==============================] - 0s 17us/step - loss: 0.2683 - accuracy: 0.8921\n",
      "Epoch 40/100\n",
      "14303/14303 [==============================] - 0s 17us/step - loss: 0.2628 - accuracy: 0.8925\n",
      "Epoch 41/100\n",
      "14303/14303 [==============================] - 0s 17us/step - loss: 0.2629 - accuracy: 0.8949\n",
      "Epoch 42/100\n",
      "14303/14303 [==============================] - 0s 17us/step - loss: 0.2575 - accuracy: 0.8965\n",
      "Epoch 43/100\n",
      "14303/14303 [==============================] - 0s 17us/step - loss: 0.2586 - accuracy: 0.8969\n",
      "Epoch 44/100\n",
      "14303/14303 [==============================] - 0s 18us/step - loss: 0.2550 - accuracy: 0.8965\n",
      "Epoch 45/100\n",
      "14303/14303 [==============================] - 0s 19us/step - loss: 0.2465 - accuracy: 0.9039\n",
      "Epoch 46/100\n",
      "14303/14303 [==============================] - 0s 19us/step - loss: 0.2529 - accuracy: 0.9002\n",
      "Epoch 47/100\n",
      "14303/14303 [==============================] - 0s 19us/step - loss: 0.2451 - accuracy: 0.9023\n",
      "Epoch 48/100\n",
      "14303/14303 [==============================] - 0s 17us/step - loss: 0.2463 - accuracy: 0.9007\n",
      "Epoch 49/100\n",
      "14303/14303 [==============================] - 0s 18us/step - loss: 0.2444 - accuracy: 0.9017\n",
      "Epoch 50/100\n",
      "14303/14303 [==============================] - 0s 18us/step - loss: 0.2448 - accuracy: 0.9002\n",
      "Epoch 51/100\n",
      "14303/14303 [==============================] - 0s 20us/step - loss: 0.2502 - accuracy: 0.9013\n",
      "Epoch 52/100\n",
      "14303/14303 [==============================] - 0s 19us/step - loss: 0.2336 - accuracy: 0.9044\n",
      "Epoch 53/100\n",
      "14303/14303 [==============================] - 0s 19us/step - loss: 0.2375 - accuracy: 0.9046\n",
      "Epoch 54/100\n",
      "14303/14303 [==============================] - 0s 17us/step - loss: 0.2327 - accuracy: 0.9065\n",
      "Epoch 55/100\n",
      "14303/14303 [==============================] - 0s 17us/step - loss: 0.2330 - accuracy: 0.9061\n",
      "Epoch 56/100\n",
      "14303/14303 [==============================] - 0s 18us/step - loss: 0.2360 - accuracy: 0.9060\n",
      "Epoch 57/100\n",
      "14303/14303 [==============================] - 0s 17us/step - loss: 0.2270 - accuracy: 0.9079\n",
      "Epoch 58/100\n",
      "14303/14303 [==============================] - 0s 18us/step - loss: 0.2253 - accuracy: 0.9125\n",
      "Epoch 59/100\n",
      "14303/14303 [==============================] - 0s 19us/step - loss: 0.2261 - accuracy: 0.9104\n",
      "Epoch 60/100\n",
      "14303/14303 [==============================] - 0s 19us/step - loss: 0.2292 - accuracy: 0.9086\n",
      "Epoch 61/100\n",
      "14303/14303 [==============================] - 0s 18us/step - loss: 0.2247 - accuracy: 0.9104\n",
      "Epoch 62/100\n",
      "14303/14303 [==============================] - 0s 19us/step - loss: 0.2262 - accuracy: 0.9071\n",
      "Epoch 63/100\n",
      "14303/14303 [==============================] - 0s 19us/step - loss: 0.2227 - accuracy: 0.9113\n",
      "Epoch 64/100\n",
      "14303/14303 [==============================] - 0s 18us/step - loss: 0.2266 - accuracy: 0.9074\n",
      "Epoch 65/100\n",
      "14303/14303 [==============================] - 0s 18us/step - loss: 0.2196 - accuracy: 0.9110\n",
      "Epoch 66/100\n",
      "14303/14303 [==============================] - 0s 17us/step - loss: 0.2202 - accuracy: 0.9111\n",
      "Epoch 67/100\n",
      "14303/14303 [==============================] - 0s 20us/step - loss: 0.2254 - accuracy: 0.9073\n",
      "Epoch 68/100\n",
      "14303/14303 [==============================] - 0s 18us/step - loss: 0.2216 - accuracy: 0.9109\n",
      "Epoch 69/100\n",
      "14303/14303 [==============================] - 0s 18us/step - loss: 0.2161 - accuracy: 0.9120\n",
      "Epoch 70/100\n",
      "14303/14303 [==============================] - 0s 18us/step - loss: 0.2171 - accuracy: 0.9127\n",
      "Epoch 71/100\n",
      "14303/14303 [==============================] - 0s 17us/step - loss: 0.2349 - accuracy: 0.9062\n",
      "Epoch 72/100\n",
      "14303/14303 [==============================] - 0s 20us/step - loss: 0.2121 - accuracy: 0.9182\n",
      "Epoch 73/100\n",
      "14303/14303 [==============================] - 0s 17us/step - loss: 0.2105 - accuracy: 0.9159\n",
      "Epoch 74/100\n",
      "14303/14303 [==============================] - 0s 17us/step - loss: 0.2083 - accuracy: 0.9172\n",
      "Epoch 75/100\n",
      "14303/14303 [==============================] - 0s 18us/step - loss: 0.2112 - accuracy: 0.9132\n",
      "Epoch 76/100\n",
      "14303/14303 [==============================] - 0s 17us/step - loss: 0.2117 - accuracy: 0.9151\n",
      "Epoch 77/100\n"
     ]
    },
    {
     "name": "stdout",
     "output_type": "stream",
     "text": [
      "14303/14303 [==============================] - 0s 17us/step - loss: 0.2077 - accuracy: 0.9163\n",
      "Epoch 78/100\n",
      "14303/14303 [==============================] - 0s 17us/step - loss: 0.2066 - accuracy: 0.9167\n",
      "Epoch 79/100\n",
      "14303/14303 [==============================] - 0s 16us/step - loss: 0.2101 - accuracy: 0.9147\n",
      "Epoch 80/100\n",
      "14303/14303 [==============================] - 0s 16us/step - loss: 0.2063 - accuracy: 0.9169\n",
      "Epoch 81/100\n",
      "14303/14303 [==============================] - 0s 16us/step - loss: 0.2035 - accuracy: 0.9169\n",
      "Epoch 82/100\n",
      "14303/14303 [==============================] - 0s 16us/step - loss: 0.2052 - accuracy: 0.9172\n",
      "Epoch 83/100\n",
      "14303/14303 [==============================] - 0s 17us/step - loss: 0.2044 - accuracy: 0.9176\n",
      "Epoch 84/100\n",
      "14303/14303 [==============================] - 0s 16us/step - loss: 0.2033 - accuracy: 0.9192\n",
      "Epoch 85/100\n",
      "14303/14303 [==============================] - 0s 17us/step - loss: 0.2069 - accuracy: 0.9188\n",
      "Epoch 86/100\n",
      "14303/14303 [==============================] - 0s 17us/step - loss: 0.2053 - accuracy: 0.9169\n",
      "Epoch 87/100\n",
      "14303/14303 [==============================] - 0s 16us/step - loss: 0.2076 - accuracy: 0.9172\n",
      "Epoch 88/100\n",
      "14303/14303 [==============================] - 0s 16us/step - loss: 0.2000 - accuracy: 0.9195\n",
      "Epoch 89/100\n",
      "14303/14303 [==============================] - 0s 16us/step - loss: 0.1997 - accuracy: 0.9192\n",
      "Epoch 90/100\n",
      "14303/14303 [==============================] - 0s 16us/step - loss: 0.2059 - accuracy: 0.9169\n",
      "Epoch 91/100\n",
      "14303/14303 [==============================] - 0s 15us/step - loss: 0.1975 - accuracy: 0.9194\n",
      "Epoch 92/100\n",
      "14303/14303 [==============================] - 0s 16us/step - loss: 0.2038 - accuracy: 0.9188\n",
      "Epoch 93/100\n",
      "14303/14303 [==============================] - 0s 16us/step - loss: 0.2138 - accuracy: 0.9121\n",
      "Epoch 94/100\n",
      "14303/14303 [==============================] - 0s 16us/step - loss: 0.2019 - accuracy: 0.9181\n",
      "Epoch 95/100\n",
      "14303/14303 [==============================] - 0s 16us/step - loss: 0.2042 - accuracy: 0.9186\n",
      "Epoch 96/100\n",
      "14303/14303 [==============================] - 0s 16us/step - loss: 0.2027 - accuracy: 0.9172\n",
      "Epoch 97/100\n",
      "14303/14303 [==============================] - 0s 17us/step - loss: 0.1996 - accuracy: 0.9188\n",
      "Epoch 98/100\n",
      "14303/14303 [==============================] - 0s 16us/step - loss: 0.2009 - accuracy: 0.9180\n",
      "Epoch 99/100\n",
      "14303/14303 [==============================] - 0s 16us/step - loss: 0.1957 - accuracy: 0.9199\n",
      "Epoch 100/100\n",
      "14303/14303 [==============================] - 0s 16us/step - loss: 0.2010 - accuracy: 0.9173\n"
     ]
    },
    {
     "data": {
      "text/plain": [
       "<keras.callbacks.callbacks.History at 0x1a2a13c710>"
      ]
     },
     "execution_count": 23,
     "metadata": {},
     "output_type": "execute_result"
    }
   ],
   "source": [
    "# Fit the model\n",
    "model.fit(train_x, train_y, epochs=100, batch_size=100)"
   ]
  },
  {
   "cell_type": "code",
   "execution_count": 24,
   "metadata": {},
   "outputs": [
    {
     "name": "stdout",
     "output_type": "stream",
     "text": [
      "6130/6130 [==============================] - 0s 24us/step\n",
      "\n",
      "accuracy: 93.67%\n"
     ]
    }
   ],
   "source": [
    "\n",
    "# evaluate the model\n",
    "scores = model.evaluate(test_x, test_y)\n",
    "\n",
    "print(\"\\n%s: %.2f%%\" % (model.metrics_names[1], scores[1]*100))"
   ]
  },
  {
   "cell_type": "markdown",
   "metadata": {},
   "source": [
    "# Early stopping based on validation results\n",
    "\n",
    "To do this, you need to send the validation data sets to the fit() function and use a callback.\n",
    "\n",
    "EarlyStopping Arguments:\n",
    "\n",
    "**monitor:** quantity to be monitored.<br>\n",
    "**min_delta:** minimum change in the monitored quantity to qualify as an improvement, i.e. an absolute change of less than min_delta, will count as no improvement.<br>\n",
    "**patience:** number of epochs with no improvement after which training will be stopped.<br>\n",
    "**verbose:** verbosity mode.<br>\n",
    "**mode:** one of {auto, min, max}. In min mode, training will stop when the quantity monitored has stopped decreasing; in max mode it will stop when the quantity monitored has stopped increasing; in auto mode, the direction is automatically inferred from the name of the monitored quantity.<br>\n",
    "**baseline:** Baseline value for the monitored quantity to reach. Training will stop if the model doesn't show improvement over the baseline.<br>\n",
    "**restore_best_weights:** whether to restore model weights from the epoch with the best value of the monitored quantity. If False, the model weights obtained at the last step of training are used."
   ]
  },
  {
   "cell_type": "code",
   "execution_count": null,
   "metadata": {
    "collapsed": true
   },
   "outputs": [],
   "source": [
    "from keras.callbacks import EarlyStopping\n",
    "\n",
    "\n",
    "earlystop = EarlyStopping(monitor='val_loss', patience=5, verbose=1, mode='auto')\n",
    "\n",
    "callback = [earlystop]\n",
    "\n",
    "model.fit(train_x, train_y, validation_data=(test_x, test_y), \n",
    "          epochs=100, batch_size=100, callbacks=callback)"
   ]
  },
  {
   "cell_type": "code",
   "execution_count": null,
   "metadata": {
    "collapsed": true
   },
   "outputs": [],
   "source": []
  }
 ],
 "metadata": {
  "kernelspec": {
   "display_name": "Python 3",
   "language": "python",
   "name": "python3"
  },
  "language_info": {
   "codemirror_mode": {
    "name": "ipython",
    "version": 3
   },
   "file_extension": ".py",
   "mimetype": "text/x-python",
   "name": "python",
   "nbconvert_exporter": "python",
   "pygments_lexer": "ipython3",
   "version": "3.6.3"
  },
  "nav_menu": {
   "height": "279px",
   "width": "309px"
  },
  "toc": {
   "nav_menu": {},
   "number_sections": true,
   "sideBar": true,
   "skip_h1_title": false,
   "toc_cell": false,
   "toc_position": {},
   "toc_section_display": "block",
   "toc_window_display": false
  }
 },
 "nbformat": 4,
 "nbformat_minor": 1
}
